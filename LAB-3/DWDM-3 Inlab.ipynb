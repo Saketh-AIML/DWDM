{
 "cells": [
  {
   "cell_type": "markdown",
   "id": "b30abe43",
   "metadata": {},
   "source": [
    "# IN LAB-1"
   ]
  },
  {
   "cell_type": "markdown",
   "id": "dd4f0114",
   "metadata": {},
   "source": [
    "# Suppose that you are given a small 3x2 matrix, you have to calculate Principal Component Analysis without using pca () function"
   ]
  },
  {
   "cell_type": "code",
   "execution_count": 1,
   "id": "5861318c",
   "metadata": {},
   "outputs": [
    {
     "data": {
      "text/plain": [
       "(array([[ 0.33333333,  0.66666667],\n",
       "        [ 1.33333333, -2.33333333],\n",
       "        [-1.66666667,  1.66666667]]),\n",
       " array([[ 2.33333333, -2.83333333],\n",
       "        [-2.83333333,  4.33333333]]),\n",
       " array([6.3379594 , 0.32870727]),\n",
       " array([[ 0.57757246, -0.81633943],\n",
       "        [-0.81633943, -0.57757246]]),\n",
       " array([[-0.35170213,  0.65716145],\n",
       "        [ 2.6748886 , -0.25921649],\n",
       "        [-2.32318647, -0.39794495]]))"
      ]
     },
     "execution_count": 1,
     "metadata": {},
     "output_type": "execute_result"
    }
   ],
   "source": [
    "import numpy as np\n",
    "from sklearn.decomposition import PCA\n",
    "\n",
    "# Given matrix\n",
    "matrix = np.array([[3, 5], [4, 2], [1, 6]])\n",
    "\n",
    "# Step 1.1: Mean Center the Data\n",
    "mean_centered_matrix = matrix - np.mean(matrix, axis=0)\n",
    "\n",
    "# Step 1.2: Calculate the Covariance Matrix\n",
    "cov_matrix = np.cov(mean_centered_matrix, rowvar=False)\n",
    "\n",
    "# Step 1.3: Compute the Eigenvalues and Eigenvectors\n",
    "eigenvalues, eigenvectors = np.linalg.eig(cov_matrix)\n",
    "\n",
    "# Step 1.4: Determine the Principal Components\n",
    "# Sort eigenvalues and eigenvectors\n",
    "idx = np.argsort(eigenvalues)[::-1]\n",
    "eigenvalues = eigenvalues[idx]\n",
    "eigenvectors = eigenvectors[:, idx]\n",
    "\n",
    "# Principal Components (Manually Calculated)\n",
    "principal_components_manual = eigenvectors\n",
    "\n",
    "# Step 2: Calculate PCA using the PCA() function from scikit-learn\n",
    "pca = PCA(n_components=2)\n",
    "principal_components_sklearn = pca.fit_transform(matrix)\n",
    "\n",
    "mean_centered_matrix, cov_matrix, eigenvalues, principal_components_manual, principal_components_sklearn\n"
   ]
  },
  {
   "cell_type": "markdown",
   "id": "27a56409",
   "metadata": {},
   "source": [
    "# IN LAB-2"
   ]
  },
  {
   "cell_type": "markdown",
   "id": "8895a78e",
   "metadata": {},
   "source": [
    "# Calculate the principal component analysis for the matrix given in Q1 using PCA"
   ]
  },
  {
   "cell_type": "code",
   "execution_count": 2,
   "id": "eba5c4af",
   "metadata": {},
   "outputs": [
    {
     "name": "stdout",
     "output_type": "stream",
     "text": [
      "Original Data:\n",
      " [[2.5 2.4]\n",
      " [0.5 0.7]\n",
      " [2.2 2.9]\n",
      " [1.9 2.2]\n",
      " [3.1 3. ]]\n",
      "Transformed Data:\n",
      " [[-0.5124457 ]\n",
      " [ 2.57528445]\n",
      " [-0.69555387]\n",
      " [ 0.1485184 ]\n",
      " [-1.51580328]]\n"
     ]
    }
   ],
   "source": [
    "import numpy as np\n",
    "from sklearn.decomposition import PCA\n",
    "from sklearn.preprocessing import StandardScaler\n",
    "\n",
    "# Example data\n",
    "data = np.array([[2.5, 2.4], [0.5, 0.7], [2.2, 2.9], [1.9, 2.2], [3.1, 3.0]])\n",
    "\n",
    "# Standardizing the data\n",
    "scaler = StandardScaler()\n",
    "data_scaled = scaler.fit_transform(data)\n",
    "\n",
    "# Applying PCA\n",
    "pca = PCA(n_components=1)  # Reducing to 1 principal component for simplicity\n",
    "data_pca = pca.fit_transform(data_scaled)\n",
    "\n",
    "print(\"Original Data:\\n\", data)\n",
    "print(\"Transformed Data:\\n\", data_pca)\n"
   ]
  }
 ],
 "metadata": {
  "kernelspec": {
   "display_name": "Python 3 (ipykernel)",
   "language": "python",
   "name": "python3"
  },
  "language_info": {
   "codemirror_mode": {
    "name": "ipython",
    "version": 3
   },
   "file_extension": ".py",
   "mimetype": "text/x-python",
   "name": "python",
   "nbconvert_exporter": "python",
   "pygments_lexer": "ipython3",
   "version": "3.11.4"
  }
 },
 "nbformat": 4,
 "nbformat_minor": 5
}
