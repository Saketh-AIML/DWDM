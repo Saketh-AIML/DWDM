{
 "cells": [
  {
   "cell_type": "markdown",
   "id": "f62ddc7e",
   "metadata": {},
   "source": [
    "# POST LAB-1"
   ]
  },
  {
   "cell_type": "code",
   "execution_count": null,
   "id": "7dd51d51",
   "metadata": {},
   "outputs": [],
   "source": [
    "# 1. Data(13,5,16,16,19,20,20,21,22,22,25,25,25,25,30,33,33,35,35,35,35,36,40,45,46,52,70)\n",
    "#2. Use smoothing by bin means to smooth the above data, using a bin depth of\n",
    "#3. Illustrate your steps."
   ]
  },
  {
   "cell_type": "code",
   "execution_count": 1,
   "id": "1e896247",
   "metadata": {},
   "outputs": [],
   "source": [
    "import numpy as np\n",
    "import matplotlib.pyplot as plt\n",
    "\n",
    "# Given data\n",
    "data = np.array([13, 5, 16, 16, 19, 20, 20, 21, 22, 22, 25, 25, 25, 25, 30, 33, 33, 35, 35, 35, 35, 36, 40, 45, 46, 52, 70])\n",
    "\n",
    "# Sort the data\n",
    "sorted_data = np.sort(data)"
   ]
  },
  {
   "cell_type": "markdown",
   "id": "839ecae7",
   "metadata": {},
   "source": [
    "# Apply smoothing by bin means"
   ]
  },
  {
   "cell_type": "code",
   "execution_count": 2,
   "id": "078a3a2e",
   "metadata": {},
   "outputs": [
    {
     "name": "stdout",
     "output_type": "stream",
     "text": [
      "Original Data:\n",
      "[ 5 13 16 16 19 20 20 21 22 22 25 25 25 25 30 33 33 35 35 35 35 36 40 45\n",
      " 46 52 70]\n",
      "\n",
      "Smoothed Data (by bin means):\n",
      "[11 11 11 18 18 18 21 21 21 24 24 24 26 26 26 33 33 33 35 35 35 40 40 40\n",
      " 56 56 56]\n"
     ]
    }
   ],
   "source": [
    "# Define the bin depth\n",
    "bin_depth = 3\n",
    "\n",
    "# Calculate the number of bins\n",
    "num_bins = int(np.ceil(len(sorted_data) / bin_depth))\n",
    "\n",
    "# Apply smoothing by bin means\n",
    "smoothed_data = np.copy(sorted_data)\n",
    "for i in range(num_bins):\n",
    "    start_index = i * bin_depth\n",
    "    end_index = min((i + 1) * bin_depth, len(sorted_data))\n",
    "    bin_mean = np.mean(sorted_data[start_index:end_index])\n",
    "    smoothed_data[start_index:end_index] = bin_mean\n",
    "\n",
    "# Print the original and smoothed data\n",
    "print(\"Original Data:\")\n",
    "print(sorted_data)\n",
    "print(\"\\nSmoothed Data (by bin means):\")\n",
    "print(smoothed_data)"
   ]
  },
  {
   "cell_type": "markdown",
   "id": "506e1af5",
   "metadata": {},
   "source": [
    "# Plot the histogram"
   ]
  },
  {
   "cell_type": "code",
   "execution_count": 3,
   "id": "c7f13e83",
   "metadata": {},
   "outputs": [
    {
     "data": {
      "image/png": "[encoded data removed]",
      "text/plain": [
       "<Figure size 1000x500 with 2 Axes>"
      ]
     },
     "metadata": {},
     "output_type": "display_data"
    }
   ],
   "source": [
    "# Plot the histogram\n",
    "plt.figure(figsize=(10, 5))\n",
    "\n",
    "# Histogram for original data\n",
    "plt.subplot(1, 2, 1)\n",
    "plt.hist(sorted_data, bins=num_bins, edgecolor='black')\n",
    "plt.title('Original Data')\n",
    "plt.xlabel('Value')\n",
    "plt.ylabel('Frequency')\n",
    "\n",
    "# Histogram for smoothed data\n",
    "plt.subplot(1, 2, 2)\n",
    "plt.hist(smoothed_data, bins=num_bins, edgecolor='black')\n",
    "plt.title('Smoothed Data (by bin means)')\n",
    "plt.xlabel('Value')\n",
    "plt.ylabel('Frequency')\n",
    "\n",
    "plt.tight_layout()\n",
    "plt.show()"
   ]
  },
  {
   "cell_type": "markdown",
   "id": "52f46d18",
   "metadata": {},
   "source": [
    "# POST LAB-2"
   ]
  },
  {
   "cell_type": "markdown",
   "id": "ac42f434",
   "metadata": {},
   "source": [
    "# Use these two methods below to normalize the following group of data: 200, 300, 400,600and1000."
   ]
  },
  {
   "cell_type": "code",
   "execution_count": 4,
   "id": "7a84ef56",
   "metadata": {},
   "outputs": [],
   "source": [
    "import numpy as np\n",
    "\n",
    "# Given data\n",
    "data = np.array([200, 300, 400, 600, 1000])"
   ]
  },
  {
   "cell_type": "markdown",
   "id": "9dfee507",
   "metadata": {},
   "source": [
    "# a. min-max normalization by setting min =0 and max=1"
   ]
  },
  {
   "cell_type": "code",
   "execution_count": 5,
   "id": "03bbfa45",
   "metadata": {},
   "outputs": [
    {
     "data": {
      "text/plain": [
       "array([0.   , 0.125, 0.25 , 0.5  , 1.   ])"
      ]
     },
     "execution_count": 5,
     "metadata": {},
     "output_type": "execute_result"
    }
   ],
   "source": [
    "min_val = np.min(data)\n",
    "max_val = np.max(data)\n",
    "min_max_normalized = (data - min_val) / (max_val - min_val)\n",
    "min_max_normalized"
   ]
  },
  {
   "cell_type": "markdown",
   "id": "a8106d3a",
   "metadata": {},
   "source": [
    "# b. z-score normalization\n"
   ]
  },
  {
   "cell_type": "code",
   "execution_count": 7,
   "id": "566f3729",
   "metadata": {},
   "outputs": [
    {
     "data": {
      "text/plain": [
       "array([-1.06066017, -0.70710678, -0.35355339,  0.35355339,  1.76776695])"
      ]
     },
     "execution_count": 7,
     "metadata": {},
     "output_type": "execute_result"
    }
   ],
   "source": [
    "mean = np.mean(data)\n",
    "std_dev = np.std(data)\n",
    "z_score_normalized = (data - mean) / std_dev\n",
    "z_score_normalized"
   ]
  },
  {
   "cell_type": "markdown",
   "id": "80316370",
   "metadata": {},
   "source": [
    "# c. z-score normalization using the mean absolute deviation of standard deviation\n"
   ]
  },
  {
   "cell_type": "code",
   "execution_count": 8,
   "id": "6fa424b5",
   "metadata": {},
   "outputs": [
    {
     "data": {
      "text/plain": [
       "array([-1.25      , -0.83333333, -0.41666667,  0.41666667,  2.08333333])"
      ]
     },
     "execution_count": 8,
     "metadata": {},
     "output_type": "execute_result"
    }
   ],
   "source": [
    "mad = np.mean(np.abs(data - mean))\n",
    "z_score_mad_normalized = (data - mean) / mad\n",
    "z_score_mad_normalized"
   ]
  },
  {
   "cell_type": "markdown",
   "id": "5e8ea7ac",
   "metadata": {},
   "source": [
    "# d. Normalization by simple feature scaling."
   ]
  },
  {
   "cell_type": "code",
   "execution_count": 9,
   "id": "93aab717",
   "metadata": {},
   "outputs": [
    {
     "data": {
      "text/plain": [
       "array([0.2, 0.3, 0.4, 0.6, 1. ])"
      ]
     },
     "execution_count": 9,
     "metadata": {},
     "output_type": "execute_result"
    }
   ],
   "source": [
    "simple_feature_scaled = data / max_val\n",
    "simple_feature_scaled"
   ]
  },
  {
   "cell_type": "markdown",
   "id": "d540d3b2",
   "metadata": {},
   "source": [
    "# POST LAB-3"
   ]
  },
  {
   "cell_type": "code",
   "execution_count": 10,
   "id": "06abe357",
   "metadata": {},
   "outputs": [],
   "source": [
    "import numpy as np\n",
    "import pandas as pd\n",
    "\n",
    "# Given data from the image\n",
    "data = {\n",
    "    'Age': [23, 23, 27, 27, 38, 41, 47, 48, 50],\n",
    "    'Fat': [9.5, 26.5, 7.8, 17.8, 31.4, 25.9, 27.4, 27.2, 31.2]\n",
    "}\n",
    "\n",
    "# Create a DataFrame\n",
    "df = pd.DataFrame(data)"
   ]
  },
  {
   "cell_type": "markdown",
   "id": "fb1f59ac",
   "metadata": {},
   "source": [
    "# a. Normalize the two variables(age, fat) based on z-score normalization"
   ]
  },
  {
   "cell_type": "code",
   "execution_count": 11,
   "id": "5c8e21bb",
   "metadata": {},
   "outputs": [
    {
     "data": {
      "text/html": [
       "<div>\n",
       "<style scoped>\n",
       "    .dataframe tbody tr th:only-of-type {\n",
       "        vertical-align: middle;\n",
       "    }\n",
       "\n",
       "    .dataframe tbody tr th {\n",
       "        vertical-align: top;\n",
       "    }\n",
       "\n",
       "    .dataframe thead th {\n",
       "        text-align: right;\n",
       "    }\n",
       "</style>\n",
       "<table border=\"1\" class=\"dataframe\">\n",
       "  <thead>\n",
       "    <tr style=\"text-align: right;\">\n",
       "      <th></th>\n",
       "      <th>Age</th>\n",
       "      <th>Fat</th>\n",
       "    </tr>\n",
       "  </thead>\n",
       "  <tbody>\n",
       "    <tr>\n",
       "      <th>0</th>\n",
       "      <td>-1.168613</td>\n",
       "      <td>-1.486356</td>\n",
       "    </tr>\n",
       "    <tr>\n",
       "      <th>1</th>\n",
       "      <td>-1.168613</td>\n",
       "      <td>0.421467</td>\n",
       "    </tr>\n",
       "    <tr>\n",
       "      <th>2</th>\n",
       "      <td>-0.809040</td>\n",
       "      <td>-1.677138</td>\n",
       "    </tr>\n",
       "    <tr>\n",
       "      <th>3</th>\n",
       "      <td>-0.809040</td>\n",
       "      <td>-0.554889</td>\n",
       "    </tr>\n",
       "    <tr>\n",
       "      <th>4</th>\n",
       "      <td>0.179787</td>\n",
       "      <td>0.971368</td>\n",
       "    </tr>\n",
       "    <tr>\n",
       "      <th>5</th>\n",
       "      <td>0.449467</td>\n",
       "      <td>0.354132</td>\n",
       "    </tr>\n",
       "    <tr>\n",
       "      <th>6</th>\n",
       "      <td>0.988826</td>\n",
       "      <td>0.522469</td>\n",
       "    </tr>\n",
       "    <tr>\n",
       "      <th>7</th>\n",
       "      <td>1.078720</td>\n",
       "      <td>0.500024</td>\n",
       "    </tr>\n",
       "    <tr>\n",
       "      <th>8</th>\n",
       "      <td>1.258506</td>\n",
       "      <td>0.948923</td>\n",
       "    </tr>\n",
       "  </tbody>\n",
       "</table>\n",
       "</div>"
      ],
      "text/plain": [
       "        Age       Fat\n",
       "0 -1.168613 -1.486356\n",
       "1 -1.168613  0.421467\n",
       "2 -0.809040 -1.677138\n",
       "3 -0.809040 -0.554889\n",
       "4  0.179787  0.971368\n",
       "5  0.449467  0.354132\n",
       "6  0.988826  0.522469\n",
       "7  1.078720  0.500024\n",
       "8  1.258506  0.948923"
      ]
     },
     "execution_count": 11,
     "metadata": {},
     "output_type": "execute_result"
    }
   ],
   "source": [
    "# a. Z-Score Normalization\n",
    "z_score_normalized_df = (df - df.mean()) / df.std()\n",
    "z_score_normalized_df"
   ]
  },
  {
   "cell_type": "markdown",
   "id": "fb4c87c7",
   "metadata": {},
   "source": [
    "# b. Calculate the correlation matrix. Are these two variables positively or negatively correlated?"
   ]
  },
  {
   "cell_type": "code",
   "execution_count": 12,
   "id": "f122cfc8",
   "metadata": {},
   "outputs": [
    {
     "data": {
      "text/html": [
       "<div>\n",
       "<style scoped>\n",
       "    .dataframe tbody tr th:only-of-type {\n",
       "        vertical-align: middle;\n",
       "    }\n",
       "\n",
       "    .dataframe tbody tr th {\n",
       "        vertical-align: top;\n",
       "    }\n",
       "\n",
       "    .dataframe thead th {\n",
       "        text-align: right;\n",
       "    }\n",
       "</style>\n",
       "<table border=\"1\" class=\"dataframe\">\n",
       "  <thead>\n",
       "    <tr style=\"text-align: right;\">\n",
       "      <th></th>\n",
       "      <th>Age</th>\n",
       "      <th>Fat</th>\n",
       "    </tr>\n",
       "  </thead>\n",
       "  <tbody>\n",
       "    <tr>\n",
       "      <th>Age</th>\n",
       "      <td>1.000000</td>\n",
       "      <td>0.704287</td>\n",
       "    </tr>\n",
       "    <tr>\n",
       "      <th>Fat</th>\n",
       "      <td>0.704287</td>\n",
       "      <td>1.000000</td>\n",
       "    </tr>\n",
       "  </tbody>\n",
       "</table>\n",
       "</div>"
      ],
      "text/plain": [
       "          Age       Fat\n",
       "Age  1.000000  0.704287\n",
       "Fat  0.704287  1.000000"
      ]
     },
     "execution_count": 12,
     "metadata": {},
     "output_type": "execute_result"
    }
   ],
   "source": [
    "# b. Calculate the Correlation Matrix\n",
    "correlation_matrix = df.corr()\n",
    "correlation_matrix"
   ]
  }
 ],
 "metadata": {
  "kernelspec": {
   "display_name": "Python 3 (ipykernel)",
   "language": "python",
   "name": "python3"
  },
  "language_info": {
   "codemirror_mode": {
    "name": "ipython",
    "version": 3
   },
   "file_extension": ".py",
   "mimetype": "text/x-python",
   "name": "python",
   "nbconvert_exporter": "python",
   "pygments_lexer": "ipython3",
   "version": "3.11.4"
  }
 },
 "nbformat": 4,
 "nbformat_minor": 5
}
