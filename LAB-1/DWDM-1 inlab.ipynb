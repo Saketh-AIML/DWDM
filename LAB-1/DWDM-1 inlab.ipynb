{
 "cells": [
  {
   "cell_type": "markdown",
   "id": "f9dd05b7",
   "metadata": {},
   "source": [
    "# Given a dataset “cars” for analysis it includes the variables speed and distance."
   ]
  },
  {
   "cell_type": "code",
   "execution_count": 2,
   "id": "4c874283",
   "metadata": {},
   "outputs": [
    {
     "data": {
      "text/html": [
       "<div>\n",
       "<style scoped>\n",
       "    .dataframe tbody tr th:only-of-type {\n",
       "        vertical-align: middle;\n",
       "    }\n",
       "\n",
       "    .dataframe tbody tr th {\n",
       "        vertical-align: top;\n",
       "    }\n",
       "\n",
       "    .dataframe thead th {\n",
       "        text-align: right;\n",
       "    }\n",
       "</style>\n",
       "<table border=\"1\" class=\"dataframe\">\n",
       "  <thead>\n",
       "    <tr style=\"text-align: right;\">\n",
       "      <th></th>\n",
       "      <th>speed</th>\n",
       "      <th>dist</th>\n",
       "    </tr>\n",
       "  </thead>\n",
       "  <tbody>\n",
       "    <tr>\n",
       "      <th>0</th>\n",
       "      <td>4</td>\n",
       "      <td>2</td>\n",
       "    </tr>\n",
       "    <tr>\n",
       "      <th>1</th>\n",
       "      <td>4</td>\n",
       "      <td>10</td>\n",
       "    </tr>\n",
       "    <tr>\n",
       "      <th>2</th>\n",
       "      <td>7</td>\n",
       "      <td>4</td>\n",
       "    </tr>\n",
       "    <tr>\n",
       "      <th>3</th>\n",
       "      <td>7</td>\n",
       "      <td>22</td>\n",
       "    </tr>\n",
       "    <tr>\n",
       "      <th>4</th>\n",
       "      <td>8</td>\n",
       "      <td>16</td>\n",
       "    </tr>\n",
       "    <tr>\n",
       "      <th>5</th>\n",
       "      <td>9</td>\n",
       "      <td>10</td>\n",
       "    </tr>\n",
       "    <tr>\n",
       "      <th>6</th>\n",
       "      <td>10</td>\n",
       "      <td>18</td>\n",
       "    </tr>\n",
       "    <tr>\n",
       "      <th>7</th>\n",
       "      <td>10</td>\n",
       "      <td>26</td>\n",
       "    </tr>\n",
       "    <tr>\n",
       "      <th>8</th>\n",
       "      <td>10</td>\n",
       "      <td>34</td>\n",
       "    </tr>\n",
       "    <tr>\n",
       "      <th>9</th>\n",
       "      <td>11</td>\n",
       "      <td>17</td>\n",
       "    </tr>\n",
       "  </tbody>\n",
       "</table>\n",
       "</div>"
      ],
      "text/plain": [
       "   speed  dist\n",
       "0      4     2\n",
       "1      4    10\n",
       "2      7     4\n",
       "3      7    22\n",
       "4      8    16\n",
       "5      9    10\n",
       "6     10    18\n",
       "7     10    26\n",
       "8     10    34\n",
       "9     11    17"
      ]
     },
     "execution_count": 2,
     "metadata": {},
     "output_type": "execute_result"
    }
   ],
   "source": [
    "import pandas as pd\n",
    "import numpy as np\n",
    "import matplotlib.pyplot as plt\n",
    "\n",
    "cars = pd.read_csv(r\"C:\\Users\\saket\\OneDrive\\Desktop\\ML\\Datasets\\cars.csv\")\n",
    "cars.head(10)"
   ]
  },
  {
   "cell_type": "markdown",
   "id": "e4cdb3b7",
   "metadata": {},
   "source": [
    "# a) Average speed and distance"
   ]
  },
  {
   "cell_type": "code",
   "execution_count": 3,
   "id": "05652551",
   "metadata": {},
   "outputs": [
    {
     "name": "stdout",
     "output_type": "stream",
     "text": [
      "Average Speed: 15.4\n",
      "Average Distance: 42.98\n"
     ]
    }
   ],
   "source": [
    "average_speed = cars['speed'].mean()\n",
    "average_distance = cars['dist'].mean()\n",
    "\n",
    "print(f\"Average Speed: {average_speed}\")\n",
    "print(f\"Average Distance: {average_distance}\")"
   ]
  },
  {
   "cell_type": "markdown",
   "id": "fbcaab10",
   "metadata": {},
   "source": [
    "# b) Median and midrange"
   ]
  },
  {
   "cell_type": "code",
   "execution_count": 4,
   "id": "146d3ac6",
   "metadata": {},
   "outputs": [
    {
     "name": "stdout",
     "output_type": "stream",
     "text": [
      "Median Speed: 15.0\n",
      "Median Distance: 36.0\n",
      "Midrange Speed: 14.5\n",
      "Midrange Distance: 61.0\n"
     ]
    }
   ],
   "source": [
    "median_speed = cars['speed'].median()\n",
    "median_distance = cars['dist'].median()\n",
    "midrange_speed = (cars['speed'].min() + cars['speed'].max()) / 2\n",
    "midrange_distance = (cars['dist'].min() + cars['dist'].max()) / 2\n",
    "\n",
    "print(f\"Median Speed: {median_speed}\")\n",
    "print(f\"Median Distance: {median_distance}\")\n",
    "print(f\"Midrange Speed: {midrange_speed}\")\n",
    "print(f\"Midrange Distance: {midrange_distance}\")"
   ]
  },
  {
   "cell_type": "markdown",
   "id": "66adeaa9",
   "metadata": {},
   "source": [
    "# c) Mode and data modality"
   ]
  },
  {
   "cell_type": "code",
   "execution_count": 5,
   "id": "665b91ed",
   "metadata": {},
   "outputs": [
    {
     "name": "stdout",
     "output_type": "stream",
     "text": [
      "Mode Speed: [20]\n",
      "Mode Distance: [26]\n",
      "Speed Modality: Unimodal\n",
      "Distance Modality: Unimodal\n"
     ]
    }
   ],
   "source": [
    "mode_speed = cars['speed'].mode()\n",
    "mode_distance = cars['dist'].mode()\n",
    "\n",
    "if len(mode_speed) == 1:\n",
    "    speed_modality = 'Unimodal'\n",
    "elif len(mode_speed) == 2:\n",
    "    speed_modality = 'Bimodal'\n",
    "else:\n",
    "    speed_modality = 'Multimodal'\n",
    "\n",
    "if len(mode_distance) == 1:\n",
    "    distance_modality = 'Unimodal'\n",
    "elif len(mode_distance) == 2:\n",
    "    distance_modality = 'Bimodal'\n",
    "else:\n",
    "    distance_modality = 'Multimodal'\n",
    "\n",
    "    \n",
    "print(f\"Mode Speed: {mode_speed.values}\")\n",
    "print(f\"Mode Distance: {mode_distance.values}\")\n",
    "print(f\"Speed Modality: {speed_modality}\")\n",
    "print(f\"Distance Modality: {distance_modality}\")    \n"
   ]
  },
  {
   "cell_type": "markdown",
   "id": "24f7c950",
   "metadata": {},
   "source": [
    "# d) Variance and standard deviation"
   ]
  },
  {
   "cell_type": "code",
   "execution_count": 6,
   "id": "5897d03e",
   "metadata": {},
   "outputs": [
    {
     "name": "stdout",
     "output_type": "stream",
     "text": [
      "Variance of Speed: 27.959183673469383\n",
      "Variance of Distance: 664.0608163265307\n",
      "Standard Deviation of Speed: 5.2876444352347844\n",
      "Standard Deviation of Distance: 25.769377492025892\n"
     ]
    }
   ],
   "source": [
    "variance_speed = cars['speed'].var()\n",
    "variance_distance = cars['dist'].var()\n",
    "std_dev_speed = cars['speed'].std()\n",
    "std_dev_distance = cars['dist'].std()\n",
    "\n",
    "print(f\"Variance of Speed: {variance_speed}\")\n",
    "print(f\"Variance of Distance: {variance_distance}\")\n",
    "print(f\"Standard Deviation of Speed: {std_dev_speed}\")\n",
    "print(f\"Standard Deviation of Distance: {std_dev_distance}\")"
   ]
  },
  {
   "cell_type": "markdown",
   "id": "47021ea4",
   "metadata": {},
   "source": [
    "# e) Five-number summary"
   ]
  },
  {
   "cell_type": "code",
   "execution_count": 7,
   "id": "9b9481a6",
   "metadata": {},
   "outputs": [
    {
     "name": "stdout",
     "output_type": "stream",
     "text": [
      "Five-Number Summary for Speed: min     4.0\n",
      "25%    12.0\n",
      "50%    15.0\n",
      "75%    19.0\n",
      "max    25.0\n",
      "Name: speed, dtype: float64\n",
      "Five-Number Summary for Distance: min      2.0\n",
      "25%     26.0\n",
      "50%     36.0\n",
      "75%     56.0\n",
      "max    120.0\n",
      "Name: dist, dtype: float64\n"
     ]
    }
   ],
   "source": [
    "five_num_summary_speed = cars['speed'].describe()[['min', '25%', '50%', '75%', 'max']]\n",
    "five_num_summary_distance = cars['dist'].describe()[['min', '25%', '50%', '75%', 'max']]\n",
    "\n",
    "print(f\"Five-Number Summary for Speed: {five_num_summary_speed}\")\n",
    "print(f\"Five-Number Summary for Distance: {five_num_summary_distance}\")\n"
   ]
  },
  {
   "cell_type": "markdown",
   "id": "3963a2d3",
   "metadata": {},
   "source": [
    "# f) Histogram and box plot"
   ]
  },
  {
   "cell_type": "code",
   "execution_count": 13,
   "id": "9dc0dc01",
   "metadata": {},
   "outputs": [
    {
     "data": {
      "text/plain": [
       "Text(0, 0.5, 'Frequency')"
      ]
     },
     "execution_count": 13,
     "metadata": {},
     "output_type": "execute_result"
    },
    {
     "data": {
      "image/png": "[encoded data removed]",
      "text/plain": [
       "<Figure size 1200x600 with 2 Axes>"
      ]
     },
     "metadata": {},
     "output_type": "display_data"
    }
   ],
   "source": [
    "plt.figure(figsize=(12, 6))\n",
    "\n",
    "# Histogram for speed\n",
    "plt.subplot(2, 2, 1)\n",
    "plt.hist(cars['speed'], bins=10, edgecolor='black')\n",
    "plt.title('Histogram of Speed')\n",
    "plt.xlabel('Speed')\n",
    "plt.ylabel('Frequency')\n",
    "\n",
    "# Histogram for distance\n",
    "plt.subplot(2, 2, 2)\n",
    "plt.hist(cars['dist'], bins=10, edgecolor='black')\n",
    "plt.title('Histogram of Distance')\n",
    "plt.xlabel('Distance')\n",
    "plt.ylabel('Frequency')"
   ]
  },
  {
   "cell_type": "code",
   "execution_count": 10,
   "id": "1e25864c",
   "metadata": {},
   "outputs": [
    {
     "data": {
      "image/png": "[encoded data removed]",
      "text/plain": [
       "<Figure size 640x480 with 2 Axes>"
      ]
     },
     "metadata": {},
     "output_type": "display_data"
    }
   ],
   "source": [
    "# Box plot for speed\n",
    "plt.subplot(2, 2, 3)\n",
    "plt.boxplot(cars['speed'], vert=False)\n",
    "plt.title('Box Plot of Speed')\n",
    "plt.xlabel('Speed')\n",
    "\n",
    "# Box plot for distance\n",
    "plt.subplot(2, 2, 4)\n",
    "plt.boxplot(cars['dist'], vert=False)\n",
    "plt.title('Box Plot of Distance')\n",
    "plt.xlabel('Distance')\n",
    "\n",
    "plt.tight_layout()\n",
    "plt.show()"
   ]
  }
 ],
 "metadata": {
  "kernelspec": {
   "display_name": "Python 3 (ipykernel)",
   "language": "python",
   "name": "python3"
  },
  "language_info": {
   "codemirror_mode": {
    "name": "ipython",
    "version": 3
   },
   "file_extension": ".py",
   "mimetype": "text/x-python",
   "name": "python",
   "nbconvert_exporter": "python",
   "pygments_lexer": "ipython3",
   "version": "3.11.4"
  }
 },
 "nbformat": 4,
 "nbformat_minor": 5
}
